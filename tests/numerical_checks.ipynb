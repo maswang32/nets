{
 "cells": [
  {
   "cell_type": "markdown",
   "id": "59f1a84a",
   "metadata": {},
   "source": [
    "## MSE Loss, Linear"
   ]
  },
  {
   "cell_type": "code",
   "execution_count": 1,
   "id": "934a75b3",
   "metadata": {},
   "outputs": [
    {
     "name": "stdout",
     "output_type": "stream",
     "text": [
      "1.390860759897805e-10\n",
      "2.439638213669326e-10\n"
     ]
    }
   ],
   "source": [
    "%load_ext autoreload\n",
    "%autoreload 2\n",
    "import numpy as np\n",
    "from nets.functional import (\n",
    "    linear_forward,\n",
    "    linear_backward,\n",
    "    mse_loss_forward,\n",
    "    mse_loss_backward,\n",
    "    softmax_loss_forward,\n",
    "    softmax_loss_backward\n",
    ")\n",
    "\n",
    "from tests.check import check_equals\n",
    "epsilon = 1e-6\n",
    "x = np.random.randn(1, 3)\n",
    "w = np.random.randn(8, 3)\n",
    "b = np.random.randn(8)\n",
    "y = np.random.randn(1, 8)\n",
    "\n",
    "numerical_dx = np.zeros_like(x)\n",
    "\n",
    "for n in range(x.shape[0]):\n",
    "    for d in range(x.shape[1]):\n",
    "        # Computing numerical derivative\n",
    "        h = np.zeros_like(x)\n",
    "        h[n, d] = epsilon\n",
    "\n",
    "        out_minus, _ = linear_forward(x - h, w, b)\n",
    "        loss_minus, _ = mse_loss_forward(out_minus, y)\n",
    "\n",
    "        out_plus, _ = linear_forward(x + h, w, b)\n",
    "        loss_plus, _ = mse_loss_forward(out_plus, y)\n",
    "\n",
    "        numerical_dx[n, d] = (loss_plus - loss_minus) / (2 * epsilon)\n",
    "\n",
    "\n",
    "\n",
    "numerical_dw = np.zeros_like(w)\n",
    "\n",
    "for k in range(w.shape[0]):\n",
    "    for d in range(w.shape[1]):\n",
    "        # Computing numerical derivative\n",
    "        h = np.zeros_like(w)\n",
    "        h[k, d] = epsilon\n",
    "\n",
    "        out_minus, _ = linear_forward(x, w - h, b)\n",
    "        loss_minus, _ = mse_loss_forward(out_minus, y)\n",
    "\n",
    "        out_plus, _ = linear_forward(x, w + h , b)\n",
    "        loss_plus, _ = mse_loss_forward(out_plus, y)\n",
    "\n",
    "        numerical_dw[k, d] = (loss_plus - loss_minus) / (2 * epsilon)\n",
    "\n",
    "\n",
    "# Testing our derivative\n",
    "out1, cache1 = linear_forward(x, w, b)\n",
    "out2, cache2 = mse_loss_forward(out1, y)\n",
    "\n",
    "dL_dout = mse_loss_backward(cache2)\n",
    "dx, dw, db = linear_backward(dL_dout, cache1)\n",
    "\n",
    "check_equals(dx, numerical_dx)\n",
    "check_equals(dw, numerical_dw)"
   ]
  },
  {
   "cell_type": "markdown",
   "id": "f172ce5b",
   "metadata": {},
   "source": [
    "## Softmax Loss"
   ]
  },
  {
   "cell_type": "code",
   "execution_count": 6,
   "id": "30d52311",
   "metadata": {},
   "outputs": [
    {
     "name": "stdout",
     "output_type": "stream",
     "text": [
      "3.8829753388341937e-10\n"
     ]
    }
   ],
   "source": [
    "N = 25\n",
    "K = 10\n",
    "eps = 1e-6\n",
    "x = np.random.randn(N, K)\n",
    "y = np.random.randint(0, K, (N,))\n",
    "loss, cache = softmax_loss_forward(x, y)\n",
    "dL_dx = softmax_loss_backward(cache)\n",
    "\n",
    "\n",
    "dx_numeric = np.zeros((N, K))\n",
    "for n in range(N):\n",
    "    for k in range(K):\n",
    "        h = np.zeros_like(x)\n",
    "        h[n,k] = eps\n",
    "        dx_numeric[n, k] = (softmax_loss_forward(x + h, y)[0] - softmax_loss_forward(x - h, y)[0]) / (2 * eps)\n",
    "        \n",
    "check_equals(dx_numeric, dL_dx)"
   ]
  }
 ],
 "metadata": {
  "kernelspec": {
   "display_name": "Python 3",
   "language": "python",
   "name": "python3"
  },
  "language_info": {
   "codemirror_mode": {
    "name": "ipython",
    "version": 3
   },
   "file_extension": ".py",
   "mimetype": "text/x-python",
   "name": "python",
   "nbconvert_exporter": "python",
   "pygments_lexer": "ipython3",
   "version": "3.11.11"
  }
 },
 "nbformat": 4,
 "nbformat_minor": 5
}
