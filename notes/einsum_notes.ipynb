{
 "cells": [
  {
   "cell_type": "markdown",
   "id": "c7dae003",
   "metadata": {},
   "source": [
    "### Expanding into a full loop"
   ]
  },
  {
   "cell_type": "code",
   "execution_count": null,
   "id": "cbfc758b",
   "metadata": {},
   "outputs": [
    {
     "name": "stdout",
     "output_type": "stream",
     "text": [
      "0.0\n"
     ]
    }
   ],
   "source": [
    "# What does einsum do?\n",
    "# We can think of it as big loop, over all indices.\n",
    "# Suppose we have:\n",
    "# np.einsum(\"nd,dk->nk\", A, B)\n",
    "# The code for this is:\n",
    "\n",
    "\n",
    "import numpy as np\n",
    "\n",
    "\n",
    "N = 10\n",
    "D = 20\n",
    "K = 30\n",
    "\n",
    "A = np.random.randn(N,D)\n",
    "B = np.random.randn(D,K)\n",
    "\n",
    "out = np.zeros((N, K))\n",
    "for n in range(N):\n",
    "    for d in range(D):\n",
    "        for k in range(K):\n",
    "            out[n,k] += A[n,d] * B[d,k]\n",
    "\n",
    "print(np.max(np.abs(out - np.einsum(\"nd,dk->nk\", A, B))))"
   ]
  },
  {
   "cell_type": "markdown",
   "id": "e5909685",
   "metadata": {},
   "source": [
    "### Dot Products"
   ]
  },
  {
   "cell_type": "code",
   "execution_count": 2,
   "id": "b3f46d23",
   "metadata": {},
   "outputs": [
    {
     "name": "stdout",
     "output_type": "stream",
     "text": [
      "14\n"
     ]
    },
    {
     "data": {
      "text/plain": [
       "np.int64(0)"
      ]
     },
     "execution_count": 2,
     "metadata": {},
     "output_type": "execute_result"
    }
   ],
   "source": [
    "# Einsum to compute dot product:\n",
    "\n",
    "A = np.arange(4)\n",
    "B = np.arange(4)\n",
    "\n",
    "# Pairwise multiply, then sum:\n",
    "res1 = np.sum(np.einsum(\"n,n->n\", A, B), axis=0)\n",
    "print(res1)\n",
    "\n",
    "# Summing and multiplying in one einsum:\n",
    "res2 = np.einsum(\"n,n->\", A, B)\n",
    "res1 - res2"
   ]
  },
  {
   "cell_type": "code",
   "execution_count": 3,
   "id": "714c250c",
   "metadata": {},
   "outputs": [
    {
     "name": "stdout",
     "output_type": "stream",
     "text": [
      "-22.57579805941183\n",
      "-22.57579805941183\n"
     ]
    }
   ],
   "source": [
    "# Einsum can generalize the dot product:\n",
    "\n",
    "A=np.random.randn(N,K)\n",
    "B=np.random.randn(N,K)\n",
    "\n",
    "print(np.sum(A*B))\n",
    "print(np.einsum(\"nk,nk->\",A,B))"
   ]
  },
  {
   "cell_type": "markdown",
   "id": "2fbb39c2",
   "metadata": {},
   "source": [
    "### Einsum Interpretaion as Cartesian Product"
   ]
  },
  {
   "cell_type": "code",
   "execution_count": 4,
   "id": "524214da",
   "metadata": {},
   "outputs": [
    {
     "name": "stdout",
     "output_type": "stream",
     "text": [
      "0.0\n"
     ]
    }
   ],
   "source": [
    "# Einsum is like doing a cartesian product across axes that are not repeated,\n",
    "# and a pairwise product for axes that are.\n",
    "# The end result is summed across all axes that do not appear in the output indices specified.\n",
    "# Einsum is like broadcasting out, multiplying, and then summing across the axes that appear twice\n",
    "x = np.random.randn(N, D)\n",
    "w = np.random.randn(D, K)\n",
    "\n",
    "out = np.einsum(\"nd,dk->nk\", x, w)\n",
    "\n",
    "x = x.reshape(N, D, 1)\n",
    "w = w.reshape(1, D, K)\n",
    "out2 = np.sum(x * w, axis=1)\n",
    "\n",
    "print(np.max(np.abs(out - out2)))"
   ]
  },
  {
   "cell_type": "code",
   "execution_count": 5,
   "id": "d6694df1",
   "metadata": {},
   "outputs": [
    {
     "data": {
      "text/plain": [
       "array([[-8.8817842e-16, -8.8817842e-16],\n",
       "       [-8.8817842e-16, -8.8817842e-16],\n",
       "       [ 0.0000000e+00,  0.0000000e+00]])"
      ]
     },
     "execution_count": 5,
     "metadata": {},
     "output_type": "execute_result"
    }
   ],
   "source": [
    "# When using einsum,\n",
    "# we sum across axes that do not appear in the output, and are repeated in the input.\n",
    "A = np.random.randn(4, 3, 7)\n",
    "B = np.random.randn(4, 7, 2)\n",
    "res1 = np.sum(np.einsum(\"nij,njk->nik\", A, B), axis=0)\n",
    "res2 = np.einsum(\"nij,njk->ik\", A, B)\n",
    "res1 - res2"
   ]
  },
  {
   "cell_type": "code",
   "execution_count": 6,
   "id": "eb7a53b0",
   "metadata": {},
   "outputs": [
    {
     "data": {
      "text/plain": [
       "array([[ 1.11022302e-16,  3.55271368e-15],\n",
       "       [-5.55111512e-17,  4.44089210e-16],\n",
       "       [ 2.22044605e-16,  8.88178420e-16]])"
      ]
     },
     "execution_count": 6,
     "metadata": {},
     "output_type": "execute_result"
    }
   ],
   "source": [
    "# We sum across axes that do not appear in the output, but appear only once in the input.\n",
    "A = np.random.randn(4, 3, 7)\n",
    "B = np.random.randn(7, 2)\n",
    "res1 = np.sum(np.einsum(\"nij,jk->nik\", A, B), axis=0)\n",
    "res2 = np.einsum(\"nij,jk->ik\", A, B)\n",
    "res1 - res2"
   ]
  }
 ],
 "metadata": {
  "kernelspec": {
   "display_name": "Python 3",
   "language": "python",
   "name": "python3"
  },
  "language_info": {
   "codemirror_mode": {
    "name": "ipython",
    "version": 3
   },
   "file_extension": ".py",
   "mimetype": "text/x-python",
   "name": "python",
   "nbconvert_exporter": "python",
   "pygments_lexer": "ipython3",
   "version": "3.11.11"
  }
 },
 "nbformat": 4,
 "nbformat_minor": 5
}
