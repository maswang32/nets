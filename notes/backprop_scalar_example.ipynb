{
 "cells": [
  {
   "cell_type": "markdown",
   "id": "6cec0637",
   "metadata": {},
   "source": [
    "# Example Forward/Backward Pass with Scalars"
   ]
  },
  {
   "cell_type": "markdown",
   "id": "329ba761",
   "metadata": {},
   "source": [
    "#### Forward - Theirs"
   ]
  },
  {
   "cell_type": "code",
   "execution_count": 4,
   "id": "6bfc5590",
   "metadata": {},
   "outputs": [
    {
     "data": {
      "text/plain": [
       "1.5456448841066441"
      ]
     },
     "execution_count": 4,
     "metadata": {},
     "output_type": "execute_result"
    }
   ],
   "source": [
    "import math\n",
    "x = 3 # example values\n",
    "y = -4\n",
    "\n",
    "# forward pass\n",
    "sigy = 1.0 / (1 + math.exp(-y)) # sigmoid in numerator   #(1)\n",
    "num = x + sigy # numerator                               #(2)\n",
    "sigx = 1.0 / (1 + math.exp(-x)) # sigmoid in denominator #(3)\n",
    "xpy = x + y                                              #(4)\n",
    "xpysqr = xpy**2                                          #(5)\n",
    "den = sigx + xpysqr # denominator                        #(6)\n",
    "invden = 1.0 / den                                       #(7)\n",
    "num * invden # done!                                 #(8)"
   ]
  },
  {
   "cell_type": "markdown",
   "id": "8af00c96",
   "metadata": {},
   "source": [
    "#### Forward - Ours"
   ]
  },
  {
   "cell_type": "code",
   "execution_count": 5,
   "id": "8522034d",
   "metadata": {},
   "outputs": [
    {
     "data": {
      "text/plain": [
       "1.5456448841066441"
      ]
     },
     "execution_count": 5,
     "metadata": {},
     "output_type": "execute_result"
    }
   ],
   "source": [
    "sigx = 1/(1+math.exp(-x))\n",
    "sigy = 1/(1+math.exp(-y))\n",
    "num = x + sigy\n",
    "xpy = x + y\n",
    "xpysqr = xpy**2\n",
    "den = sigx + xpysqr\n",
    "invden = 1/den\n",
    "out = num * invden\n",
    "out"
   ]
  },
  {
   "cell_type": "markdown",
   "id": "ef450c0d",
   "metadata": {},
   "source": [
    "#### Backwards - Theirs"
   ]
  },
  {
   "cell_type": "code",
   "execution_count": null,
   "id": "c7950d13",
   "metadata": {},
   "outputs": [],
   "source": [
    "# backprop f = num * invden\n",
    "dnum = invden  # gradient on numerator                             #(8)\n",
    "dinvden = num  # (8)\n",
    "# backprop invden = 1.0 / den\n",
    "dden = (-1.0 / (den**2)) * dinvden  # (7)\n",
    "# backprop den = sigx + xpysqr\n",
    "dsigx = (1) * dden  # (6)\n",
    "dxpysqr = (1) * dden  # (6)\n",
    "# backprop xpysqr = xpy**2\n",
    "dxpy = (2 * xpy) * dxpysqr  # (5)\n",
    "# backprop xpy = x + y\n",
    "dx = (1) * dxpy  # (4)\n",
    "dy = (1) * dxpy  # (4)\n",
    "# backprop sigx = 1.0 / (1 + math.exp(-x))\n",
    "dx += ((1 - sigx) * sigx) * dsigx  # Notice += !! See notes below  #(3)\n",
    "# backprop num = x + sigy\n",
    "dx += (1) * dnum  # (2)\n",
    "dsigy = (1) * dnum  # (2)\n",
    "# backprop sigy = 1.0 / (1 + math.exp(-y))\n",
    "dy += ((1 - sigy) * sigy) * dsigy  # (1)\n",
    "# done! phew\n",
    "\n",
    "print(dx)\n",
    "print(dy)\n"
   ]
  },
  {
   "cell_type": "markdown",
   "id": "195950d3",
   "metadata": {},
   "source": [
    "#### Backwards - Ours"
   ]
  },
  {
   "cell_type": "code",
   "execution_count": 6,
   "id": "a0add09a",
   "metadata": {},
   "outputs": [
    {
     "name": "stdout",
     "output_type": "stream",
     "text": [
      "2.0595697955721652\n",
      "1.5922327514838093\n"
     ]
    }
   ],
   "source": [
    "dx = 0 \n",
    "dy = 0\n",
    "dinvden = num\n",
    "dnum = invden\n",
    "\n",
    "dden = dinvden * -1/(den**2)\n",
    "dxpysqr =  dden * 1 \n",
    "dxpy = dxpysqr * 2 * xpy\n",
    "dx += dxpy * 1\n",
    "dy += dxpy * 1\n",
    "\n",
    "dsigy = dnum * 1.0\n",
    "dx += dnum * 1.0\n",
    "\n",
    "dy +=  dsigy * sigy*(1-sigy)\n",
    "dsigx = dden * 1\n",
    "dx += dsigx * sigx * (1 - sigx) # \"dx plus equals dout / dsigx times dsigx / dx\"\n",
    "\n",
    "\n",
    "print(dx)\n",
    "print(dy)\n",
    "\n"
   ]
  }
 ],
 "metadata": {
  "kernelspec": {
   "display_name": "Python 3",
   "language": "python",
   "name": "python3"
  },
  "language_info": {
   "codemirror_mode": {
    "name": "ipython",
    "version": 3
   },
   "file_extension": ".py",
   "mimetype": "text/x-python",
   "name": "python",
   "nbconvert_exporter": "python",
   "pygments_lexer": "ipython3",
   "version": "3.11.11"
  }
 },
 "nbformat": 4,
 "nbformat_minor": 5
}
